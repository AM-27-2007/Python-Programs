{
  "nbformat": 4,
  "nbformat_minor": 0,
  "metadata": {
    "colab": {
      "provenance": []
    },
    "kernelspec": {
      "name": "python3",
      "display_name": "Python 3"
    },
    "language_info": {
      "name": "python"
    }
  },
  "cells": [
    {
      "cell_type": "markdown",
      "source": [
        "# Python program to swap the two numbers"
      ],
      "metadata": {
        "id": "yhMdj1W7Bn4y"
      }
    },
    {
      "cell_type": "code",
      "source": [
        "# Approach 1 : Using a temporary variable\n",
        "\n",
        "# Initialize two variables with some random values. Let us assume these variables are a & b\n",
        "a=2\n",
        "b=3\n",
        "print(\"Values before swapping are a = %d and b = %d\"%(a,b))\n",
        "temp=a\n",
        "a=b\n",
        "b=temp\n",
        "print(\"Values after swapping are a = %d and b = %d\"%(a,b))"
      ],
      "metadata": {
        "colab": {
          "base_uri": "https://localhost:8080/"
        },
        "id": "duVrk6qaBhfK",
        "outputId": "23abe1ab-e2b6-4947-f24d-bf11241e217e"
      },
      "execution_count": 6,
      "outputs": [
        {
          "output_type": "stream",
          "name": "stdout",
          "text": [
            "Values before swapping are a = 2 and b = 3\n",
            "Values after swapping are a = 3 and b = 2\n"
          ]
        }
      ]
    },
    {
      "cell_type": "code",
      "source": [
        "# Approach 2 : Without using a temporary variable\n",
        "\n",
        "# Initialize two variables with some random values. Let us assume these variables are a & b\n",
        "a=2\n",
        "b=3\n",
        "print(\"Values before swapping are a = %d and b = %d\"%(a,b))\n",
        "a=a+b\n",
        "b=a-b\n",
        "a=a-b\n",
        "print(\"Values after swapping are a = %d and b = %d\"%(a,b))"
      ],
      "metadata": {
        "colab": {
          "base_uri": "https://localhost:8080/"
        },
        "id": "CnEohCQ3AwSI",
        "outputId": "66051512-e660-409f-c61d-9b014cf4c34c"
      },
      "execution_count": 5,
      "outputs": [
        {
          "output_type": "stream",
          "name": "stdout",
          "text": [
            "Values before swapping are a = 2 and b = 3\n",
            "Values after swapping are a = 3 and b = 2\n"
          ]
        }
      ]
    },
    {
      "cell_type": "code",
      "source": [],
      "metadata": {
        "id": "j2r9FgTMBf9c"
      },
      "execution_count": null,
      "outputs": []
    }
  ]
}