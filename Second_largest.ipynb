{
  "nbformat": 4,
  "nbformat_minor": 0,
  "metadata": {
    "colab": {
      "provenance": []
    },
    "kernelspec": {
      "name": "python3",
      "display_name": "Python 3"
    },
    "language_info": {
      "name": "python"
    }
  },
  "cells": [
    {
      "cell_type": "code",
      "execution_count": null,
      "metadata": {
        "id": "YoTbci3qItQc"
      },
      "outputs": [],
      "source": []
    },
    {
      "cell_type": "markdown",
      "source": [
        "# Python program to find the second largest number from the given list"
      ],
      "metadata": {
        "id": "XMdx-MRbIuCt"
      }
    },
    {
      "cell_type": "code",
      "source": [
        "# Create the list\n",
        "a=[2,5,14,6,7,9,1,12,10]\n",
        "\n",
        "# Define the two varables\n",
        "largest, second_largest = 1,1\n",
        "for i in a:\n",
        "  if i>largest:\n",
        "    second_large = largest\n",
        "    largest = i\n",
        "  elif i>second_large:\n",
        "    second_large=i\n",
        "\n",
        "print(\"The second largest number in given list is :\", second_large)\n",
        "#print(num)"
      ],
      "metadata": {
        "colab": {
          "base_uri": "https://localhost:8080/"
        },
        "id": "NfCWEu3_IuwK",
        "outputId": "ed7ef774-ff37-4eed-b68d-593f6f1aa4c8"
      },
      "execution_count": 2,
      "outputs": [
        {
          "output_type": "stream",
          "name": "stdout",
          "text": [
            "The second largest number in given list is : 12\n"
          ]
        }
      ]
    },
    {
      "cell_type": "code",
      "source": [],
      "metadata": {
        "id": "TJ_AEDD3JZCv"
      },
      "execution_count": null,
      "outputs": []
    }
  ]
}