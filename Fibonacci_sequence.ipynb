{
  "nbformat": 4,
  "nbformat_minor": 0,
  "metadata": {
    "colab": {
      "provenance": []
    },
    "kernelspec": {
      "name": "python3",
      "display_name": "Python 3"
    },
    "language_info": {
      "name": "python"
    }
  },
  "cells": [
    {
      "cell_type": "code",
      "execution_count": 1,
      "metadata": {
        "id": "6hF8RcqDFZYR"
      },
      "outputs": [],
      "source": []
    },
    {
      "cell_type": "markdown",
      "source": [
        "# Program to find the Fibonacci Series"
      ],
      "metadata": {
        "id": "n7VfcnATFhm1"
      }
    },
    {
      "cell_type": "markdown",
      "source": [
        "#Fibonacci -- The Fibonacci series is a sequence of numbers in which each number is the sum of the two preceding numbers.\n",
        "## The sequence starts with 0 and 1, and the next number in the sequence is the sum of the previous two numbers: 0, 1, 1, 2, 3, 5...so on."
      ],
      "metadata": {
        "id": "NB7MS4Y6Fh1l"
      }
    },
    {
      "cell_type": "code",
      "source": [
        "# Defining function\n",
        "\n",
        "def fibo(n):\n",
        "  first,second=0,1\n",
        "  for i in range(0,n):\n",
        "    if i<=1:\n",
        "      res=i\n",
        "    else:\n",
        "      res=first+second\n",
        "      first=second\n",
        "      second=res\n",
        "    print(res)\n",
        "\n",
        "# Calling function to print first 7 fibonacci numbers\n",
        "print(\"Fibonacci sequence with length 7 is : \")\n",
        "fibo(7)"
      ],
      "metadata": {
        "colab": {
          "base_uri": "https://localhost:8080/"
        },
        "id": "z8Njcjt-FaSX",
        "outputId": "fd9e1de5-5fe6-4112-c629-b64fa32a00c0"
      },
      "execution_count": 9,
      "outputs": [
        {
          "output_type": "stream",
          "name": "stdout",
          "text": [
            "Fibonacci sequence with length 7 is : \n",
            "0\n",
            "1\n",
            "1\n",
            "2\n",
            "3\n",
            "5\n",
            "8\n"
          ]
        }
      ]
    },
    {
      "cell_type": "code",
      "source": [],
      "metadata": {
        "id": "XdUVaeMCF7hq"
      },
      "execution_count": null,
      "outputs": []
    }
  ]
}