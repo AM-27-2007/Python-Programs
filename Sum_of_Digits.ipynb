{
  "nbformat": 4,
  "nbformat_minor": 0,
  "metadata": {
    "colab": {
      "provenance": []
    },
    "kernelspec": {
      "name": "python3",
      "display_name": "Python 3"
    },
    "language_info": {
      "name": "python"
    }
  },
  "cells": [
    {
      "cell_type": "code",
      "execution_count": null,
      "metadata": {
        "id": "EVXFtCK2Ce8E"
      },
      "outputs": [],
      "source": []
    },
    {
      "cell_type": "markdown",
      "source": [
        "# Python program to find sum of digits of a number"
      ],
      "metadata": {
        "id": "XtNckMH_CmFC"
      }
    },
    {
      "cell_type": "code",
      "source": [
        "n = int(input(\"Enter any number having more than one digits = \"))\n",
        "\n",
        "# Defining function to calculate sum of digits\n",
        "def Add(n):\n",
        "  sum=0\n",
        "  while(n>=1):\n",
        "    a=n%10\n",
        "    sum+=a\n",
        "    n=n//10\n",
        "  return(sum)\n",
        "\n",
        "# Calling function\n",
        "sum1 = Add(n)\n",
        "print(\"Sum of digits for number %d is %d\"%(n,sum1))"
      ],
      "metadata": {
        "colab": {
          "base_uri": "https://localhost:8080/"
        },
        "id": "qb9BcHUqCkuD",
        "outputId": "310b296e-5d31-4bac-a421-08c9b5bfae64"
      },
      "execution_count": 7,
      "outputs": [
        {
          "output_type": "stream",
          "name": "stdout",
          "text": [
            "Enter any number having more than one digits = 123\n",
            "Sum of digits for number 123 is 6\n"
          ]
        }
      ]
    },
    {
      "cell_type": "code",
      "source": [],
      "metadata": {
        "id": "ggs6XwQsC7EG"
      },
      "execution_count": null,
      "outputs": []
    }
  ]
}