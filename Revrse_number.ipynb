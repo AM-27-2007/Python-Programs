{
  "nbformat": 4,
  "nbformat_minor": 0,
  "metadata": {
    "colab": {
      "provenance": []
    },
    "kernelspec": {
      "name": "python3",
      "display_name": "Python 3"
    },
    "language_info": {
      "name": "python"
    }
  },
  "cells": [
    {
      "cell_type": "code",
      "execution_count": null,
      "metadata": {
        "id": "1ZRxSujLHdgb"
      },
      "outputs": [],
      "source": []
    },
    {
      "cell_type": "markdown",
      "source": [
        "# Python program to find the reverse of a given number"
      ],
      "metadata": {
        "id": "ZhGxL6YdH3Yw"
      }
    },
    {
      "cell_type": "code",
      "source": [
        "n = int(input(\"Enter any number : \"))\n",
        "\n",
        "# Defining function\n",
        "def rev(n):\n",
        "  reverse=0\n",
        "  while n!=0:\n",
        "    reverse=reverse*10+n%10\n",
        "    n=n//10\n",
        "  return(reverse)\n",
        "\n",
        "r = rev(n)\n",
        "print(\"The revrse of number %d is %d\"%(n,r))"
      ],
      "metadata": {
        "colab": {
          "base_uri": "https://localhost:8080/"
        },
        "id": "Ov-O5B1uHeco",
        "outputId": "9d4c648a-6b0d-4907-e5f7-d537f972e3b9"
      },
      "execution_count": 3,
      "outputs": [
        {
          "output_type": "stream",
          "name": "stdout",
          "text": [
            "Enter any number : 12\n",
            "The revrse of number 12 is 21\n"
          ]
        }
      ]
    },
    {
      "cell_type": "code",
      "source": [],
      "metadata": {
        "id": "m3bkNwSBHp_K"
      },
      "execution_count": null,
      "outputs": []
    }
  ]
}